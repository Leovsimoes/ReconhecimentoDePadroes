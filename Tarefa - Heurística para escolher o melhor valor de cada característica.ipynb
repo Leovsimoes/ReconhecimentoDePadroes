{
 "cells": [
  {
   "cell_type": "code",
   "execution_count": 1,
   "metadata": {},
   "outputs": [],
   "source": [
    "import pandas as pd\n",
    "from collections import Counter\n",
    "from sklearn.base import BaseEstimator, ClassifierMixin\n",
    "from sklearn.metrics import accuracy_score\n",
    "from sklearn.model_selection import train_test_split, cross_val_score"
   ]
  },
  {
   "cell_type": "code",
   "execution_count": 10,
   "metadata": {},
   "outputs": [
    {
     "data": {
      "text/html": [
       "<div>\n",
       "<style scoped>\n",
       "    .dataframe tbody tr th:only-of-type {\n",
       "        vertical-align: middle;\n",
       "    }\n",
       "\n",
       "    .dataframe tbody tr th {\n",
       "        vertical-align: top;\n",
       "    }\n",
       "\n",
       "    .dataframe thead th {\n",
       "        text-align: right;\n",
       "    }\n",
       "</style>\n",
       "<table border=\"1\" class=\"dataframe\">\n",
       "  <thead>\n",
       "    <tr style=\"text-align: right;\">\n",
       "      <th></th>\n",
       "      <th>buying</th>\n",
       "      <th>maint</th>\n",
       "      <th>doors</th>\n",
       "      <th>persons</th>\n",
       "      <th>lug_boot</th>\n",
       "      <th>safety</th>\n",
       "      <th>evaluation</th>\n",
       "    </tr>\n",
       "  </thead>\n",
       "  <tbody>\n",
       "    <tr>\n",
       "      <th>count</th>\n",
       "      <td>1728</td>\n",
       "      <td>1728</td>\n",
       "      <td>1728</td>\n",
       "      <td>1728</td>\n",
       "      <td>1728</td>\n",
       "      <td>1728</td>\n",
       "      <td>1728</td>\n",
       "    </tr>\n",
       "    <tr>\n",
       "      <th>unique</th>\n",
       "      <td>4</td>\n",
       "      <td>4</td>\n",
       "      <td>4</td>\n",
       "      <td>3</td>\n",
       "      <td>3</td>\n",
       "      <td>3</td>\n",
       "      <td>4</td>\n",
       "    </tr>\n",
       "    <tr>\n",
       "      <th>top</th>\n",
       "      <td>high</td>\n",
       "      <td>high</td>\n",
       "      <td>5more</td>\n",
       "      <td>4</td>\n",
       "      <td>big</td>\n",
       "      <td>high</td>\n",
       "      <td>unacc</td>\n",
       "    </tr>\n",
       "    <tr>\n",
       "      <th>freq</th>\n",
       "      <td>432</td>\n",
       "      <td>432</td>\n",
       "      <td>432</td>\n",
       "      <td>576</td>\n",
       "      <td>576</td>\n",
       "      <td>576</td>\n",
       "      <td>1210</td>\n",
       "    </tr>\n",
       "  </tbody>\n",
       "</table>\n",
       "</div>"
      ],
      "text/plain": [
       "       buying maint  doors persons lug_boot safety evaluation\n",
       "count    1728  1728   1728    1728     1728   1728       1728\n",
       "unique      4     4      4       3        3      3          4\n",
       "top      high  high  5more       4      big   high      unacc\n",
       "freq      432   432    432     576      576    576       1210"
      ]
     },
     "execution_count": 10,
     "metadata": {},
     "output_type": "execute_result"
    }
   ],
   "source": [
    "#Para inicio do exercicio vou utilizar a mesma base de dados do vídeo para conseguir um critério de comparação\n",
    "df = pd.read_csv('https://archive.ics.uci.edu/ml/machine-learning-databases/car/car.data',header=None,names=['buying','maint','doors','persons','lug_boot','safety','evaluation'])\n",
    "df.describe()"
   ]
  },
  {
   "cell_type": "code",
   "execution_count": 11,
   "metadata": {},
   "outputs": [
    {
     "data": {
      "text/html": [
       "<div>\n",
       "<style scoped>\n",
       "    .dataframe tbody tr th:only-of-type {\n",
       "        vertical-align: middle;\n",
       "    }\n",
       "\n",
       "    .dataframe tbody tr th {\n",
       "        vertical-align: top;\n",
       "    }\n",
       "\n",
       "    .dataframe thead th {\n",
       "        text-align: right;\n",
       "    }\n",
       "</style>\n",
       "<table border=\"1\" class=\"dataframe\">\n",
       "  <thead>\n",
       "    <tr style=\"text-align: right;\">\n",
       "      <th></th>\n",
       "      <th>buying</th>\n",
       "      <th>maint</th>\n",
       "      <th>doors</th>\n",
       "      <th>persons</th>\n",
       "      <th>lug_boot</th>\n",
       "      <th>safety</th>\n",
       "      <th>evaluation</th>\n",
       "    </tr>\n",
       "  </thead>\n",
       "  <tbody>\n",
       "    <tr>\n",
       "      <th>0</th>\n",
       "      <td>vhigh</td>\n",
       "      <td>vhigh</td>\n",
       "      <td>2</td>\n",
       "      <td>2</td>\n",
       "      <td>small</td>\n",
       "      <td>low</td>\n",
       "      <td>unacc</td>\n",
       "    </tr>\n",
       "    <tr>\n",
       "      <th>1</th>\n",
       "      <td>vhigh</td>\n",
       "      <td>vhigh</td>\n",
       "      <td>2</td>\n",
       "      <td>2</td>\n",
       "      <td>small</td>\n",
       "      <td>med</td>\n",
       "      <td>unacc</td>\n",
       "    </tr>\n",
       "    <tr>\n",
       "      <th>2</th>\n",
       "      <td>vhigh</td>\n",
       "      <td>vhigh</td>\n",
       "      <td>2</td>\n",
       "      <td>2</td>\n",
       "      <td>small</td>\n",
       "      <td>high</td>\n",
       "      <td>unacc</td>\n",
       "    </tr>\n",
       "    <tr>\n",
       "      <th>3</th>\n",
       "      <td>vhigh</td>\n",
       "      <td>vhigh</td>\n",
       "      <td>2</td>\n",
       "      <td>2</td>\n",
       "      <td>med</td>\n",
       "      <td>low</td>\n",
       "      <td>unacc</td>\n",
       "    </tr>\n",
       "    <tr>\n",
       "      <th>4</th>\n",
       "      <td>vhigh</td>\n",
       "      <td>vhigh</td>\n",
       "      <td>2</td>\n",
       "      <td>2</td>\n",
       "      <td>med</td>\n",
       "      <td>med</td>\n",
       "      <td>unacc</td>\n",
       "    </tr>\n",
       "  </tbody>\n",
       "</table>\n",
       "</div>"
      ],
      "text/plain": [
       "  buying  maint doors persons lug_boot safety evaluation\n",
       "0  vhigh  vhigh     2       2    small    low      unacc\n",
       "1  vhigh  vhigh     2       2    small    med      unacc\n",
       "2  vhigh  vhigh     2       2    small   high      unacc\n",
       "3  vhigh  vhigh     2       2      med    low      unacc\n",
       "4  vhigh  vhigh     2       2      med    med      unacc"
      ]
     },
     "execution_count": 11,
     "metadata": {},
     "output_type": "execute_result"
    }
   ],
   "source": [
    "df.head()"
   ]
  },
  {
   "cell_type": "code",
   "execution_count": 12,
   "metadata": {},
   "outputs": [
    {
     "data": {
      "text/plain": [
       "(1728, 7)"
      ]
     },
     "execution_count": 12,
     "metadata": {},
     "output_type": "execute_result"
    }
   ],
   "source": [
    "df.shape"
   ]
  },
  {
   "cell_type": "code",
   "execution_count": 5,
   "metadata": {},
   "outputs": [
    {
     "data": {
      "text/plain": [
       "buying  maint  evaluation\n",
       "high    high   acc            36\n",
       "               unacc          72\n",
       "        low    acc            36\n",
       "               unacc          72\n",
       "        med    acc            36\n",
       "               unacc          72\n",
       "        vhigh  unacc         108\n",
       "low     high   acc            33\n",
       "               unacc          62\n",
       "               vgood          13\n",
       "        low    acc            10\n",
       "               good           23\n",
       "               unacc          62\n",
       "               vgood          13\n",
       "        med    acc            10\n",
       "               good           23\n",
       "               unacc          62\n",
       "               vgood          13\n",
       "        vhigh  acc            36\n",
       "               unacc          72\n",
       "med     high   acc            36\n",
       "               unacc          72\n",
       "        low    acc            10\n",
       "               good           23\n",
       "               unacc          62\n",
       "               vgood          13\n",
       "        med    acc            33\n",
       "               unacc          62\n",
       "               vgood          13\n",
       "        vhigh  acc            36\n",
       "               unacc          72\n",
       "vhigh   high   unacc         108\n",
       "        low    acc            36\n",
       "               unacc          72\n",
       "        med    acc            36\n",
       "               unacc          72\n",
       "        vhigh  unacc         108\n",
       "dtype: int64"
      ]
     },
     "execution_count": 5,
     "metadata": {},
     "output_type": "execute_result"
    }
   ],
   "source": [
    "#Dando um count para cada valor de buying e maint com resultado em evaluation para avaliar os números\n",
    "df.value_counts(subset=['buying','maint','evaluation'],sort=False)"
   ]
  },
  {
   "cell_type": "code",
   "execution_count": 6,
   "metadata": {},
   "outputs": [],
   "source": [
    "#primeira versão da árvore, apenas para atributos categóricos\n",
    "class Arvore(BaseEstimator, ClassifierMixin):\n",
    "    \n",
    "    def fit(self, X, y):\n",
    "        self.X = X\n",
    "        self.y = y\n",
    "        self.tree = self.eval_depth(X,y)\n",
    "        return self.tree\n",
    "       \n",
    "    def eval_depth(self, X, y):\n",
    "        list_tree=[]\n",
    "        if(len(X.columns)==0):\n",
    "            return [(y.name,y.value_counts(sort=False,normalize=True).idxmax())]\n",
    "\n",
    "        d={}\n",
    "        for column in X.columns:\n",
    "            r=0\n",
    "            for value in X[column].unique():\n",
    "                result = y[X.loc[X[column]==value].index].unique()\n",
    "                r+=len(result)\n",
    "            d[column]=r\n",
    "        selection = max(d, key=d.get)\n",
    "\n",
    "        for value in X[selection].unique():\n",
    "            subarvore = Arvore()\n",
    "            list_tree.append([(selection,value),subarvore.eval_depth(X.loc[X[selection]==value].drop(labels=[selection],axis=1),y[X.loc[X[selection]==value].index])])\n",
    "\n",
    "        return list_tree\n",
    "    \n",
    "    \n",
    "    def predict(self,X):\n",
    "        self.y_pred=[]\n",
    "        for i in X.index:\n",
    "            self.y_pred.append(self.check_X(X.loc[i],self.tree,()))\n",
    "        return self.y_pred\n",
    "        \n",
    "        \n",
    "    def check_X(self,x,list_tree,actual_tuple):\n",
    "        if (len(x)==0): return list_tree[0][1]\n",
    "\n",
    "        for i in range(len(list_tree)):\n",
    "            if(x[list_tree[i][0][0]]==list_tree[i][0][1]): \n",
    "                return self.check_X(x.drop(labels=[list_tree[i][0][0]]),list_tree[i][1],list_tree[i][0])\n",
    "            \n",
    "        return self.define_X(actual_tuple)\n",
    "    \n",
    "    \n",
    "    def define_X(self, actual_tuple):\n",
    "        return self.y[self.X.loc[self.X[actual_tuple[0]]==actual_tuple[1]].index].value_counts(sort=False,normalize=False).idxmax()"
   ]
  },
  {
   "cell_type": "code",
   "execution_count": 7,
   "metadata": {},
   "outputs": [
    {
     "data": {
      "text/plain": [
       "0.7916666666666666"
      ]
     },
     "execution_count": 7,
     "metadata": {},
     "output_type": "execute_result"
    }
   ],
   "source": [
    "#teste para uma parcela do dataset, pode ser visualizado na árvore\n",
    "df_resumido = df.loc[((df.maint == 'high') | (df.maint == 'vhigh')) & ((df.doors == '2') | (df.doors == '4'))].drop(labels=['buying','persons','lug_boot','safety'],axis=1).copy()\n",
    "\n",
    "arvore = Arvore()\n",
    "X = df_resumido.drop(labels=['evaluation'],axis=1)\n",
    "y = df_resumido['evaluation']\n",
    "tree = arvore.fit(X,y)\n",
    "y_pred = arvore.predict(X)\n",
    "accuracy_score(y, y_pred)"
   ]
  },
  {
   "cell_type": "code",
   "execution_count": 8,
   "metadata": {},
   "outputs": [
    {
     "data": {
      "text/plain": [
       "1.0"
      ]
     },
     "execution_count": 8,
     "metadata": {},
     "output_type": "execute_result"
    }
   ],
   "source": [
    "#teste para todo o dataset com ressubstituição\n",
    "arvore = Arvore()\n",
    "X = df.drop(labels=['evaluation'],axis=1)\n",
    "y = df['evaluation']\n",
    "tree = arvore.fit(X,y)\n",
    "y_pred = arvore.predict(X)\n",
    "accuracy_score(y, y_pred)"
   ]
  },
  {
   "cell_type": "code",
   "execution_count": 9,
   "metadata": {},
   "outputs": [
    {
     "data": {
      "text/plain": [
       "0.6952714535901926"
      ]
     },
     "execution_count": 9,
     "metadata": {},
     "output_type": "execute_result"
    }
   ],
   "source": [
    "#teste com split de treino/teste\n",
    "X = df.drop(labels=['evaluation'],axis=1)\n",
    "y = df['evaluation']\n",
    "\n",
    "arvore = Arvore()\n",
    "X_train, X_test, y_train, y_test = train_test_split(X, y, test_size=0.33, random_state=42)\n",
    "\n",
    "tree = arvore.fit(X_train,y_train)\n",
    "y_pred = arvore.predict(X_test)\n",
    "\n",
    "accuracy_score(y_test, y_pred)"
   ]
  },
  {
   "cell_type": "code",
   "execution_count": 10,
   "metadata": {},
   "outputs": [
    {
     "name": "stdout",
     "output_type": "stream",
     "text": [
      "Scores: [0.70138889 0.70138889 0.69907407 0.54166667]\n",
      "Média dos scores: 0.6608796296296295\n"
     ]
    }
   ],
   "source": [
    "modelo = Arvore()\n",
    "scores = cross_val_score(modelo, X, y, cv=4)\n",
    "print(\"Scores:\",scores)\n",
    "print(\"Média dos scores:\",scores.mean())"
   ]
  },
  {
   "cell_type": "markdown",
   "metadata": {},
   "source": [
    "<hr style=\"height:2px;border-width:0;color:black;background-color:black\">\n",
    "Árvore com atributos contínuos"
   ]
  },
  {
   "cell_type": "code",
   "execution_count": 2,
   "metadata": {},
   "outputs": [],
   "source": [
    "#fazendo load no dataset da Iris\n",
    "from sklearn.datasets import load_iris\n",
    "iris = load_iris()\n",
    "\n",
    "df = pd.DataFrame(data=iris.data, columns=iris.feature_names)\n",
    "df.loc[:,'target'] = iris.target"
   ]
  },
  {
   "cell_type": "code",
   "execution_count": 3,
   "metadata": {},
   "outputs": [
    {
     "data": {
      "text/html": [
       "<div>\n",
       "<style scoped>\n",
       "    .dataframe tbody tr th:only-of-type {\n",
       "        vertical-align: middle;\n",
       "    }\n",
       "\n",
       "    .dataframe tbody tr th {\n",
       "        vertical-align: top;\n",
       "    }\n",
       "\n",
       "    .dataframe thead th {\n",
       "        text-align: right;\n",
       "    }\n",
       "</style>\n",
       "<table border=\"1\" class=\"dataframe\">\n",
       "  <thead>\n",
       "    <tr style=\"text-align: right;\">\n",
       "      <th></th>\n",
       "      <th>sepal length (cm)</th>\n",
       "      <th>sepal width (cm)</th>\n",
       "      <th>petal length (cm)</th>\n",
       "      <th>petal width (cm)</th>\n",
       "      <th>target</th>\n",
       "    </tr>\n",
       "  </thead>\n",
       "  <tbody>\n",
       "    <tr>\n",
       "      <th>0</th>\n",
       "      <td>5.1</td>\n",
       "      <td>3.5</td>\n",
       "      <td>1.4</td>\n",
       "      <td>0.2</td>\n",
       "      <td>0</td>\n",
       "    </tr>\n",
       "    <tr>\n",
       "      <th>1</th>\n",
       "      <td>4.9</td>\n",
       "      <td>3.0</td>\n",
       "      <td>1.4</td>\n",
       "      <td>0.2</td>\n",
       "      <td>0</td>\n",
       "    </tr>\n",
       "    <tr>\n",
       "      <th>2</th>\n",
       "      <td>4.7</td>\n",
       "      <td>3.2</td>\n",
       "      <td>1.3</td>\n",
       "      <td>0.2</td>\n",
       "      <td>0</td>\n",
       "    </tr>\n",
       "    <tr>\n",
       "      <th>3</th>\n",
       "      <td>4.6</td>\n",
       "      <td>3.1</td>\n",
       "      <td>1.5</td>\n",
       "      <td>0.2</td>\n",
       "      <td>0</td>\n",
       "    </tr>\n",
       "    <tr>\n",
       "      <th>4</th>\n",
       "      <td>5.0</td>\n",
       "      <td>3.6</td>\n",
       "      <td>1.4</td>\n",
       "      <td>0.2</td>\n",
       "      <td>0</td>\n",
       "    </tr>\n",
       "  </tbody>\n",
       "</table>\n",
       "</div>"
      ],
      "text/plain": [
       "   sepal length (cm)  sepal width (cm)  petal length (cm)  petal width (cm)  \\\n",
       "0                5.1               3.5                1.4               0.2   \n",
       "1                4.9               3.0                1.4               0.2   \n",
       "2                4.7               3.2                1.3               0.2   \n",
       "3                4.6               3.1                1.5               0.2   \n",
       "4                5.0               3.6                1.4               0.2   \n",
       "\n",
       "   target  \n",
       "0       0  \n",
       "1       0  \n",
       "2       0  \n",
       "3       0  \n",
       "4       0  "
      ]
     },
     "execution_count": 3,
     "metadata": {},
     "output_type": "execute_result"
    }
   ],
   "source": [
    "df.head()"
   ]
  },
  {
   "cell_type": "code",
   "execution_count": 4,
   "metadata": {},
   "outputs": [
    {
     "data": {
      "text/plain": [
       "(150, 5)"
      ]
     },
     "execution_count": 4,
     "metadata": {},
     "output_type": "execute_result"
    }
   ],
   "source": [
    "df.shape"
   ]
  },
  {
   "cell_type": "code",
   "execution_count": 2,
   "metadata": {},
   "outputs": [],
   "source": [
    "#segunda versão da árvore, agora considerando atributos contínuos e categóricos\n",
    "class Arvore(BaseEstimator, ClassifierMixin):\n",
    "    \n",
    "    def fit(self, X, y):\n",
    "        self.X = X\n",
    "        self.y = y\n",
    "        self.tree = self.eval_depth(X,y)\n",
    "        return self.tree\n",
    "       \n",
    "    def eval_depth(self, X, y):\n",
    "        #essa forma que escolhi de selecionar as características foi muito ruim, porque primeiro ele faz um select das categóricas, e depois das contínuas. Se fosse um dataset somente dessas características, como nos testes, passa ok, mas para datasets que tem conjuntos misturados fica enviezado.\n",
    "        list_tree=[]\n",
    "        if(len(X.columns)==0):\n",
    "            #print(y)\n",
    "            return [(y.name,y.value_counts(sort=False,normalize=True).idxmax())]\n",
    "        \n",
    "                   \n",
    "        #seleção da característica dos tipos categóritcos: baseada no número de valores baseados no target, é selecionada a característica com maior número de valores do target x número de valores da característica. Pensei nisso para \"arborizar\" a árvore\n",
    "        d={}\n",
    "        for column in X.select_dtypes(include=['object']).columns:\n",
    "            r=0\n",
    "            for value in X[column].unique():\n",
    "                result = y[X.loc[X[column]==value].index].unique()\n",
    "                r+=len(result)\n",
    "            d[column]=r\n",
    "            \n",
    "        if(d!={}):\n",
    "            selection_objects = max(d, key=d.get)\n",
    "            for value in X[selection_objects].unique():\n",
    "                #print(\"categorico\",value)\n",
    "                subarvore = Arvore()\n",
    "                list_tree.append([(selection_objects,value),subarvore.eval_depth(X.loc[X[selection_objects]==value].drop(labels=[selection_objects],axis=1),y[X.loc[X[selection_objects]==value].index])])\n",
    "                          \n",
    "        #seleção da característica contínua: escolhida a característica que tem menor diferença entre a mediana e a média, pois assim a característica está \"bem distribuída\". Para montagem da árvore nesse caso é feita uma conta em que o valor atual da instância tem que estar no intervalo da mediana +ou- o desvio padrão \n",
    "        d={}\n",
    "        for column in X.select_dtypes(include=['int32','float32','int64','float64']).columns:\n",
    "            d[column]=abs(X[column].median()-X[column].mean())\n",
    "            \n",
    "        if(d!={}):\n",
    "            selection_continuo = min(d, key=d.get)\n",
    "            for value in y.unique():\n",
    "                #print(\"continuo\",value)\n",
    "                median = pd.concat([X.loc[:,selection_continuo],y],axis=1).groupby(by=[y.name]).median().loc[value]\n",
    "                std = pd.concat([X.loc[:,selection_continuo],y],axis=1).groupby(by=[y.name]).std().loc[value]\n",
    "                index = X.loc[(X[selection_continuo] >= float(median-std)) & (X[selection_continuo] < float(median+std))].index\n",
    "                subarvore = Arvore()\n",
    "                if(not index.empty):\n",
    "                    list_tree.append([(selection_continuo,(median,std)),subarvore.eval_depth(X.loc[index].drop(labels=[selection_continuo],axis=1),y[index])])\n",
    "            \n",
    "\n",
    "        return list_tree\n",
    "    \n",
    "    \n",
    "    def predict(self,X):\n",
    "        #predict passa por todo o vetor fazendo uma recursão na árvore gerada no fit\n",
    "        self.y_pred=[]\n",
    "        for i in X.index:\n",
    "            self.y_pred.append(self.check_X(X.loc[i],self.tree,()))\n",
    "        return self.y_pred\n",
    "        \n",
    "        \n",
    "    def check_X(self,x,list_tree,actual_tuple):\n",
    "        #o check_X faz uma validação. Se chegou na folha da árvore, retorna o segundo item da tupla, que é a classificação. Se a instância não obedece a árvore, foi definida uma função define_X para chutar um valor.\n",
    "        if (len(x)==0): return list_tree[0][1]\n",
    "\n",
    "        for i in range(len(list_tree)):\n",
    "            if(isinstance(x[list_tree[i][0][0]],str)):\n",
    "\n",
    "                if(x[list_tree[i][0][0]]==list_tree[i][0][1]): \n",
    "                    return self.check_X(x.drop(labels=[list_tree[i][0][0]]),list_tree[i][1],list_tree[i][0])\n",
    "            else:\n",
    "                if((x[list_tree[i][0][0]] >= float(list_tree[i][0][1][0] - list_tree[i][0][1][1])) & (x[list_tree[i][0][0]] < float(list_tree[i][0][1][0] + list_tree[i][0][1][1]))): \n",
    "                    return self.check_X(x.drop(labels=[list_tree[i][0][0]]),list_tree[i][1],list_tree[i][0])\n",
    "        return self.define_X(actual_tuple)\n",
    "    \n",
    "    \n",
    "    def define_X(self, actual_tuple):\n",
    "        #nessa função é feita uma avaliação não muito precisa da característica. \n",
    "        #Se for categórica, é filtrado pela característica e pelo valor categórico que está sendo pesquisado, e pego a contagem de maior valor do target.\n",
    "        #Se for contínua é avaliado em qual target essa característica está com menos desvio da mediana, e retornada essa classificação.\n",
    "        #Se por um azar a primeira ramificação da árvore não encontrar nenhum valor nos para seguir a classificação, vem uma tupla vazia, aí é retornado a contagem da maior classificação do target\n",
    "        if(len(actual_tuple) == 0): return Counter(self.y).most_common(1)[0][0]\n",
    "        if(isinstance(actual_tuple[1],tuple)):\n",
    "            return abs(actual_tuple[1][0] - pd.concat([self.X.loc[:,actual_tuple[0]],self.y],axis=1).groupby(by=[self.y.name]).median()).idxmin()[0]\n",
    "        else: \n",
    "            return self.y[self.X.loc[self.X[actual_tuple[0]]==actual_tuple[1]].index].value_counts(sort=False,normalize=False).idxmax()"
   ]
  },
  {
   "cell_type": "code",
   "execution_count": 16,
   "metadata": {},
   "outputs": [
    {
     "data": {
      "text/plain": [
       "0.7933333333333333"
      ]
     },
     "execution_count": 16,
     "metadata": {},
     "output_type": "execute_result"
    }
   ],
   "source": [
    "#testando para todo o dataset com ressubstituição\n",
    "arvore = Arvore()\n",
    "X = df.drop(labels=['target'],axis=1)\n",
    "y = df['target']\n",
    "tree = arvore.fit(X,y)\n",
    "y_pred = arvore.predict(X)\n",
    "accuracy_score(y, y_pred)"
   ]
  },
  {
   "cell_type": "code",
   "execution_count": 17,
   "metadata": {},
   "outputs": [
    {
     "data": {
      "text/plain": [
       "0.64"
      ]
     },
     "execution_count": 17,
     "metadata": {},
     "output_type": "execute_result"
    }
   ],
   "source": [
    "#testando com split\n",
    "arvore = Arvore()\n",
    "X = df.drop(labels=['target'],axis=1)\n",
    "y = df['target']\n",
    "X_train, X_test, y_train, y_test = train_test_split(X, y, test_size=0.33, random_state=42)\n",
    "\n",
    "tree = arvore.fit(X_train,y_train)\n",
    "y_pred = arvore.predict(X_test)\n",
    "\n",
    "accuracy_score(y_test, y_pred)"
   ]
  },
  {
   "cell_type": "code",
   "execution_count": 18,
   "metadata": {},
   "outputs": [
    {
     "name": "stdout",
     "output_type": "stream",
     "text": [
      "Scores: [0.68421053 0.65789474 0.78378378 0.89189189]\n",
      "Média dos scores: 0.7544452347083925\n"
     ]
    }
   ],
   "source": [
    "#testando com cross_validate\n",
    "modelo = Arvore()\n",
    "scores = cross_val_score(modelo, X, y, cv=4)\n",
    "print(\"Scores:\",scores)\n",
    "print(\"Média dos scores:\",scores.mean())"
   ]
  },
  {
   "cell_type": "markdown",
   "metadata": {},
   "source": [
    "<hr style=\"height:2px;border-width:0;color:black;background-color:black\">\n",
    "Testando com o dataset de estrelas, utilizado nas tarefas anteriores"
   ]
  },
  {
   "cell_type": "code",
   "execution_count": 6,
   "metadata": {},
   "outputs": [
    {
     "data": {
      "text/html": [
       "<div>\n",
       "<style scoped>\n",
       "    .dataframe tbody tr th:only-of-type {\n",
       "        vertical-align: middle;\n",
       "    }\n",
       "\n",
       "    .dataframe tbody tr th {\n",
       "        vertical-align: top;\n",
       "    }\n",
       "\n",
       "    .dataframe thead th {\n",
       "        text-align: right;\n",
       "    }\n",
       "</style>\n",
       "<table border=\"1\" class=\"dataframe\">\n",
       "  <thead>\n",
       "    <tr style=\"text-align: right;\">\n",
       "      <th></th>\n",
       "      <th>Temperature (K)</th>\n",
       "      <th>Luminosity(L/Lo)</th>\n",
       "      <th>Radius(R/Ro)</th>\n",
       "      <th>Absolute magnitude(Mv)</th>\n",
       "      <th>Star type</th>\n",
       "      <th>Star color</th>\n",
       "      <th>Spectral Class</th>\n",
       "    </tr>\n",
       "  </thead>\n",
       "  <tbody>\n",
       "    <tr>\n",
       "      <th>0</th>\n",
       "      <td>3068</td>\n",
       "      <td>0.002400</td>\n",
       "      <td>0.1700</td>\n",
       "      <td>16.12</td>\n",
       "      <td>0</td>\n",
       "      <td>Red</td>\n",
       "      <td>M</td>\n",
       "    </tr>\n",
       "    <tr>\n",
       "      <th>1</th>\n",
       "      <td>3042</td>\n",
       "      <td>0.000500</td>\n",
       "      <td>0.1542</td>\n",
       "      <td>16.60</td>\n",
       "      <td>0</td>\n",
       "      <td>Red</td>\n",
       "      <td>M</td>\n",
       "    </tr>\n",
       "    <tr>\n",
       "      <th>2</th>\n",
       "      <td>2600</td>\n",
       "      <td>0.000300</td>\n",
       "      <td>0.1020</td>\n",
       "      <td>18.70</td>\n",
       "      <td>0</td>\n",
       "      <td>Red</td>\n",
       "      <td>M</td>\n",
       "    </tr>\n",
       "    <tr>\n",
       "      <th>3</th>\n",
       "      <td>2800</td>\n",
       "      <td>0.000200</td>\n",
       "      <td>0.1600</td>\n",
       "      <td>16.65</td>\n",
       "      <td>0</td>\n",
       "      <td>Red</td>\n",
       "      <td>M</td>\n",
       "    </tr>\n",
       "    <tr>\n",
       "      <th>4</th>\n",
       "      <td>1939</td>\n",
       "      <td>0.000138</td>\n",
       "      <td>0.1030</td>\n",
       "      <td>20.06</td>\n",
       "      <td>0</td>\n",
       "      <td>Red</td>\n",
       "      <td>M</td>\n",
       "    </tr>\n",
       "  </tbody>\n",
       "</table>\n",
       "</div>"
      ],
      "text/plain": [
       "   Temperature (K)  Luminosity(L/Lo)  Radius(R/Ro)  Absolute magnitude(Mv)  \\\n",
       "0             3068          0.002400        0.1700                   16.12   \n",
       "1             3042          0.000500        0.1542                   16.60   \n",
       "2             2600          0.000300        0.1020                   18.70   \n",
       "3             2800          0.000200        0.1600                   16.65   \n",
       "4             1939          0.000138        0.1030                   20.06   \n",
       "\n",
       "   Star type Star color Spectral Class  \n",
       "0          0        Red              M  \n",
       "1          0        Red              M  \n",
       "2          0        Red              M  \n",
       "3          0        Red              M  \n",
       "4          0        Red              M  "
      ]
     },
     "execution_count": 6,
     "metadata": {},
     "output_type": "execute_result"
    }
   ],
   "source": [
    "dataset = \"https://raw.githubusercontent.com/Leovsimoes/ReconhecimentoDePadroes/main/6%20class%20csv.csv\"\n",
    "df = pd.read_csv(dataset)\n",
    "df.head()"
   ]
  },
  {
   "cell_type": "code",
   "execution_count": 7,
   "metadata": {},
   "outputs": [
    {
     "data": {
      "text/plain": [
       "(240, 7)"
      ]
     },
     "execution_count": 7,
     "metadata": {},
     "output_type": "execute_result"
    }
   ],
   "source": [
    "df.shape"
   ]
  },
  {
   "cell_type": "code",
   "execution_count": 9,
   "metadata": {},
   "outputs": [
    {
     "name": "stdout",
     "output_type": "stream",
     "text": [
      "Ressubstituição: 0.7583333333333333\n",
      "Split: 0.725\n",
      "Média dos scores do cross_validate: 0.6041666666666667\n"
     ]
    }
   ],
   "source": [
    "#testando com ressubstituição, split e cross_validate\n",
    "arvore = Arvore()\n",
    "X = df.drop(labels=['Star type'],axis=1).dropna(axis=1)\n",
    "y = df['Star type']\n",
    "tree = arvore.fit(X,y)\n",
    "y_pred = arvore.predict(X)\n",
    "print(\"Ressubstituição:\",accuracy_score(y, y_pred))\n",
    "\n",
    "arvore = Arvore()\n",
    "X_train, X_test, y_train, y_test = train_test_split(X, y, test_size=0.33, random_state=42)\n",
    "\n",
    "tree = arvore.fit(X_train,y_train)\n",
    "y_pred = arvore.predict(X_test)\n",
    "print(\"Split:\",accuracy_score(y_test, y_pred))\n",
    "\n",
    "#testando com cross_validate\n",
    "modelo = Arvore()\n",
    "scores = cross_val_score(modelo, X, y, cv=4)\n",
    "print(\"Média dos scores do cross_validate:\",scores.mean())"
   ]
  },
  {
   "cell_type": "markdown",
   "metadata": {},
   "source": [
    "<hr style=\"height:2px;border-width:0;color:black;background-color:black\">\n",
    "Testando com o dataset de vinhos, que iria ser utilizado na tarefa de classificação"
   ]
  },
  {
   "cell_type": "code",
   "execution_count": 8,
   "metadata": {},
   "outputs": [
    {
     "data": {
      "text/html": [
       "<div>\n",
       "<style scoped>\n",
       "    .dataframe tbody tr th:only-of-type {\n",
       "        vertical-align: middle;\n",
       "    }\n",
       "\n",
       "    .dataframe tbody tr th {\n",
       "        vertical-align: top;\n",
       "    }\n",
       "\n",
       "    .dataframe thead th {\n",
       "        text-align: right;\n",
       "    }\n",
       "</style>\n",
       "<table border=\"1\" class=\"dataframe\">\n",
       "  <thead>\n",
       "    <tr style=\"text-align: right;\">\n",
       "      <th></th>\n",
       "      <th>type</th>\n",
       "      <th>fixed acidity</th>\n",
       "      <th>volatile acidity</th>\n",
       "      <th>citric acid</th>\n",
       "      <th>residual sugar</th>\n",
       "      <th>chlorides</th>\n",
       "      <th>free sulfur dioxide</th>\n",
       "      <th>total sulfur dioxide</th>\n",
       "      <th>density</th>\n",
       "      <th>pH</th>\n",
       "      <th>sulphates</th>\n",
       "      <th>alcohol</th>\n",
       "      <th>quality</th>\n",
       "    </tr>\n",
       "  </thead>\n",
       "  <tbody>\n",
       "    <tr>\n",
       "      <th>0</th>\n",
       "      <td>white</td>\n",
       "      <td>7.0</td>\n",
       "      <td>0.27</td>\n",
       "      <td>0.36</td>\n",
       "      <td>20.7</td>\n",
       "      <td>0.045</td>\n",
       "      <td>45.0</td>\n",
       "      <td>170.0</td>\n",
       "      <td>1.0010</td>\n",
       "      <td>3.00</td>\n",
       "      <td>0.45</td>\n",
       "      <td>8.8</td>\n",
       "      <td>6</td>\n",
       "    </tr>\n",
       "    <tr>\n",
       "      <th>1</th>\n",
       "      <td>white</td>\n",
       "      <td>6.3</td>\n",
       "      <td>0.30</td>\n",
       "      <td>0.34</td>\n",
       "      <td>1.6</td>\n",
       "      <td>0.049</td>\n",
       "      <td>14.0</td>\n",
       "      <td>132.0</td>\n",
       "      <td>0.9940</td>\n",
       "      <td>3.30</td>\n",
       "      <td>0.49</td>\n",
       "      <td>9.5</td>\n",
       "      <td>6</td>\n",
       "    </tr>\n",
       "    <tr>\n",
       "      <th>2</th>\n",
       "      <td>white</td>\n",
       "      <td>8.1</td>\n",
       "      <td>0.28</td>\n",
       "      <td>0.40</td>\n",
       "      <td>6.9</td>\n",
       "      <td>0.050</td>\n",
       "      <td>30.0</td>\n",
       "      <td>97.0</td>\n",
       "      <td>0.9951</td>\n",
       "      <td>3.26</td>\n",
       "      <td>0.44</td>\n",
       "      <td>10.1</td>\n",
       "      <td>6</td>\n",
       "    </tr>\n",
       "    <tr>\n",
       "      <th>3</th>\n",
       "      <td>white</td>\n",
       "      <td>7.2</td>\n",
       "      <td>0.23</td>\n",
       "      <td>0.32</td>\n",
       "      <td>8.5</td>\n",
       "      <td>0.058</td>\n",
       "      <td>47.0</td>\n",
       "      <td>186.0</td>\n",
       "      <td>0.9956</td>\n",
       "      <td>3.19</td>\n",
       "      <td>0.40</td>\n",
       "      <td>9.9</td>\n",
       "      <td>6</td>\n",
       "    </tr>\n",
       "    <tr>\n",
       "      <th>4</th>\n",
       "      <td>white</td>\n",
       "      <td>7.2</td>\n",
       "      <td>0.23</td>\n",
       "      <td>0.32</td>\n",
       "      <td>8.5</td>\n",
       "      <td>0.058</td>\n",
       "      <td>47.0</td>\n",
       "      <td>186.0</td>\n",
       "      <td>0.9956</td>\n",
       "      <td>3.19</td>\n",
       "      <td>0.40</td>\n",
       "      <td>9.9</td>\n",
       "      <td>6</td>\n",
       "    </tr>\n",
       "  </tbody>\n",
       "</table>\n",
       "</div>"
      ],
      "text/plain": [
       "    type  fixed acidity  volatile acidity  citric acid  residual sugar  \\\n",
       "0  white            7.0              0.27         0.36            20.7   \n",
       "1  white            6.3              0.30         0.34             1.6   \n",
       "2  white            8.1              0.28         0.40             6.9   \n",
       "3  white            7.2              0.23         0.32             8.5   \n",
       "4  white            7.2              0.23         0.32             8.5   \n",
       "\n",
       "   chlorides  free sulfur dioxide  total sulfur dioxide  density    pH  \\\n",
       "0      0.045                 45.0                 170.0   1.0010  3.00   \n",
       "1      0.049                 14.0                 132.0   0.9940  3.30   \n",
       "2      0.050                 30.0                  97.0   0.9951  3.26   \n",
       "3      0.058                 47.0                 186.0   0.9956  3.19   \n",
       "4      0.058                 47.0                 186.0   0.9956  3.19   \n",
       "\n",
       "   sulphates  alcohol  quality  \n",
       "0       0.45      8.8        6  \n",
       "1       0.49      9.5        6  \n",
       "2       0.44     10.1        6  \n",
       "3       0.40      9.9        6  \n",
       "4       0.40      9.9        6  "
      ]
     },
     "execution_count": 8,
     "metadata": {},
     "output_type": "execute_result"
    }
   ],
   "source": [
    "dataset = \"https://raw.githubusercontent.com/Leovsimoes/ReconhecimentoDePadroes/main/winequalityN.csv\"\n",
    "df = pd.read_csv(dataset)\n",
    "df.head()"
   ]
  },
  {
   "cell_type": "code",
   "execution_count": 9,
   "metadata": {},
   "outputs": [
    {
     "data": {
      "text/plain": [
       "(6497, 13)"
      ]
     },
     "execution_count": 9,
     "metadata": {},
     "output_type": "execute_result"
    }
   ],
   "source": [
    "df.shape"
   ]
  },
  {
   "cell_type": "code",
   "execution_count": 11,
   "metadata": {},
   "outputs": [
    {
     "name": "stdout",
     "output_type": "stream",
     "text": [
      "Ressubstituição: 0.42527320301677696\n",
      "Split: 0.42424242424242425\n",
      "Média dos scores do cross_validate: 0.37863205759757484\n"
     ]
    }
   ],
   "source": [
    "#testando com ressubstituição, split e cross_validate\n",
    "\n",
    "#tive que adicionar o dropna para colunas aqui, pois não deixava o algoritmo rodar.\n",
    "X = df.drop(labels=['quality'],axis=1).dropna(axis=1)\n",
    "y = df['quality']\n",
    "\n",
    "arvore = Arvore()\n",
    "tree = arvore.fit(X,y)\n",
    "y_pred = arvore.predict(X)\n",
    "print(\"Ressubstituição:\",accuracy_score(y, y_pred))\n",
    "\n",
    "arvore = Arvore()\n",
    "X_train, X_test, y_train, y_test = train_test_split(X, y, test_size=0.33, random_state=42)\n",
    "\n",
    "tree = arvore.fit(X_train,y_train)\n",
    "y_pred = arvore.predict(X_test)\n",
    "print(\"Split:\",accuracy_score(y_test, y_pred))\n",
    "\n",
    "#testando com cross_validate\n",
    "modelo = Arvore()\n",
    "scores = cross_val_score(modelo, X, y, cv=4)\n",
    "print(\"Média dos scores do cross_validate:\",scores.mean())"
   ]
  },
  {
   "cell_type": "markdown",
   "metadata": {},
   "source": [
    "<hr style=\"height:2px;border-width:0;color:black;background-color:black\">\n",
    "Testando para o terceiro dataset, retirado do Kaggle, que diz respeito a aprovação ou não em um campus de universidade americana \n",
    "<br/>\n",
    "https://www.kaggle.com/benroshan/factors-affecting-campus-placement?select=Placement_Data_Full_Class.csv"
   ]
  },
  {
   "cell_type": "code",
   "execution_count": 13,
   "metadata": {},
   "outputs": [
    {
     "data": {
      "text/html": [
       "<div>\n",
       "<style scoped>\n",
       "    .dataframe tbody tr th:only-of-type {\n",
       "        vertical-align: middle;\n",
       "    }\n",
       "\n",
       "    .dataframe tbody tr th {\n",
       "        vertical-align: top;\n",
       "    }\n",
       "\n",
       "    .dataframe thead th {\n",
       "        text-align: right;\n",
       "    }\n",
       "</style>\n",
       "<table border=\"1\" class=\"dataframe\">\n",
       "  <thead>\n",
       "    <tr style=\"text-align: right;\">\n",
       "      <th></th>\n",
       "      <th>sl_no</th>\n",
       "      <th>gender</th>\n",
       "      <th>ssc_p</th>\n",
       "      <th>ssc_b</th>\n",
       "      <th>hsc_p</th>\n",
       "      <th>hsc_b</th>\n",
       "      <th>hsc_s</th>\n",
       "      <th>degree_p</th>\n",
       "      <th>degree_t</th>\n",
       "      <th>workex</th>\n",
       "      <th>etest_p</th>\n",
       "      <th>specialisation</th>\n",
       "      <th>mba_p</th>\n",
       "      <th>status</th>\n",
       "      <th>salary</th>\n",
       "    </tr>\n",
       "  </thead>\n",
       "  <tbody>\n",
       "    <tr>\n",
       "      <th>0</th>\n",
       "      <td>1</td>\n",
       "      <td>M</td>\n",
       "      <td>67.00</td>\n",
       "      <td>Others</td>\n",
       "      <td>91.00</td>\n",
       "      <td>Others</td>\n",
       "      <td>Commerce</td>\n",
       "      <td>58.00</td>\n",
       "      <td>Sci&amp;Tech</td>\n",
       "      <td>No</td>\n",
       "      <td>55.0</td>\n",
       "      <td>Mkt&amp;HR</td>\n",
       "      <td>58.80</td>\n",
       "      <td>Placed</td>\n",
       "      <td>270000.0</td>\n",
       "    </tr>\n",
       "    <tr>\n",
       "      <th>1</th>\n",
       "      <td>2</td>\n",
       "      <td>M</td>\n",
       "      <td>79.33</td>\n",
       "      <td>Central</td>\n",
       "      <td>78.33</td>\n",
       "      <td>Others</td>\n",
       "      <td>Science</td>\n",
       "      <td>77.48</td>\n",
       "      <td>Sci&amp;Tech</td>\n",
       "      <td>Yes</td>\n",
       "      <td>86.5</td>\n",
       "      <td>Mkt&amp;Fin</td>\n",
       "      <td>66.28</td>\n",
       "      <td>Placed</td>\n",
       "      <td>200000.0</td>\n",
       "    </tr>\n",
       "    <tr>\n",
       "      <th>2</th>\n",
       "      <td>3</td>\n",
       "      <td>M</td>\n",
       "      <td>65.00</td>\n",
       "      <td>Central</td>\n",
       "      <td>68.00</td>\n",
       "      <td>Central</td>\n",
       "      <td>Arts</td>\n",
       "      <td>64.00</td>\n",
       "      <td>Comm&amp;Mgmt</td>\n",
       "      <td>No</td>\n",
       "      <td>75.0</td>\n",
       "      <td>Mkt&amp;Fin</td>\n",
       "      <td>57.80</td>\n",
       "      <td>Placed</td>\n",
       "      <td>250000.0</td>\n",
       "    </tr>\n",
       "    <tr>\n",
       "      <th>3</th>\n",
       "      <td>4</td>\n",
       "      <td>M</td>\n",
       "      <td>56.00</td>\n",
       "      <td>Central</td>\n",
       "      <td>52.00</td>\n",
       "      <td>Central</td>\n",
       "      <td>Science</td>\n",
       "      <td>52.00</td>\n",
       "      <td>Sci&amp;Tech</td>\n",
       "      <td>No</td>\n",
       "      <td>66.0</td>\n",
       "      <td>Mkt&amp;HR</td>\n",
       "      <td>59.43</td>\n",
       "      <td>Not Placed</td>\n",
       "      <td>NaN</td>\n",
       "    </tr>\n",
       "    <tr>\n",
       "      <th>4</th>\n",
       "      <td>5</td>\n",
       "      <td>M</td>\n",
       "      <td>85.80</td>\n",
       "      <td>Central</td>\n",
       "      <td>73.60</td>\n",
       "      <td>Central</td>\n",
       "      <td>Commerce</td>\n",
       "      <td>73.30</td>\n",
       "      <td>Comm&amp;Mgmt</td>\n",
       "      <td>No</td>\n",
       "      <td>96.8</td>\n",
       "      <td>Mkt&amp;Fin</td>\n",
       "      <td>55.50</td>\n",
       "      <td>Placed</td>\n",
       "      <td>425000.0</td>\n",
       "    </tr>\n",
       "  </tbody>\n",
       "</table>\n",
       "</div>"
      ],
      "text/plain": [
       "   sl_no gender  ssc_p    ssc_b  hsc_p    hsc_b     hsc_s  degree_p  \\\n",
       "0      1      M  67.00   Others  91.00   Others  Commerce     58.00   \n",
       "1      2      M  79.33  Central  78.33   Others   Science     77.48   \n",
       "2      3      M  65.00  Central  68.00  Central      Arts     64.00   \n",
       "3      4      M  56.00  Central  52.00  Central   Science     52.00   \n",
       "4      5      M  85.80  Central  73.60  Central  Commerce     73.30   \n",
       "\n",
       "    degree_t workex  etest_p specialisation  mba_p      status    salary  \n",
       "0   Sci&Tech     No     55.0         Mkt&HR  58.80      Placed  270000.0  \n",
       "1   Sci&Tech    Yes     86.5        Mkt&Fin  66.28      Placed  200000.0  \n",
       "2  Comm&Mgmt     No     75.0        Mkt&Fin  57.80      Placed  250000.0  \n",
       "3   Sci&Tech     No     66.0         Mkt&HR  59.43  Not Placed       NaN  \n",
       "4  Comm&Mgmt     No     96.8        Mkt&Fin  55.50      Placed  425000.0  "
      ]
     },
     "execution_count": 13,
     "metadata": {},
     "output_type": "execute_result"
    }
   ],
   "source": [
    "dataset = \"https://raw.githubusercontent.com/Leovsimoes/ReconhecimentoDePadroes/main/Placement_Data_Full_Class.csv\"\n",
    "df = pd.read_csv(dataset)\n",
    "df.head()"
   ]
  },
  {
   "cell_type": "code",
   "execution_count": 18,
   "metadata": {},
   "outputs": [
    {
     "data": {
      "text/plain": [
       "(215, 15)"
      ]
     },
     "execution_count": 18,
     "metadata": {},
     "output_type": "execute_result"
    }
   ],
   "source": [
    "df.shape"
   ]
  },
  {
   "cell_type": "code",
   "execution_count": 19,
   "metadata": {},
   "outputs": [
    {
     "name": "stdout",
     "output_type": "stream",
     "text": [
      "Ressubstituição: 0.7674418604651163\n",
      "Split: 0.5774647887323944\n",
      "Média dos scores do cross_validate: 0.6466631726065688\n"
     ]
    }
   ],
   "source": [
    "#testando com ressubstituição, split e cross_validate\n",
    "\n",
    "X = df.drop(labels=['sl_no','status'],axis=1).dropna(axis=1)\n",
    "y = df['status']\n",
    "\n",
    "arvore = Arvore()\n",
    "tree = arvore.fit(X,y)\n",
    "y_pred = arvore.predict(X)\n",
    "print(\"Ressubstituição:\",accuracy_score(y, y_pred))\n",
    "\n",
    "arvore = Arvore()\n",
    "X_train, X_test, y_train, y_test = train_test_split(X, y, test_size=0.33, random_state=42)\n",
    "\n",
    "tree = arvore.fit(X_train,y_train)\n",
    "y_pred = arvore.predict(X_test)\n",
    "print(\"Split:\",accuracy_score(y_test, y_pred))\n",
    "\n",
    "#testando com cross_validate\n",
    "modelo = Arvore()\n",
    "scores = cross_val_score(modelo, X, y, cv=4)\n",
    "print(\"Média dos scores do cross_validate:\",scores.mean())"
   ]
  },
  {
   "cell_type": "code",
   "execution_count": null,
   "metadata": {},
   "outputs": [],
   "source": []
  }
 ],
 "metadata": {
  "kernelspec": {
   "display_name": "Python 3",
   "language": "python",
   "name": "python3"
  },
  "language_info": {
   "codemirror_mode": {
    "name": "ipython",
    "version": 3
   },
   "file_extension": ".py",
   "mimetype": "text/x-python",
   "name": "python",
   "nbconvert_exporter": "python",
   "pygments_lexer": "ipython3",
   "version": "3.6.5"
  }
 },
 "nbformat": 4,
 "nbformat_minor": 2
}
